{
 "cells": [
  {
   "cell_type": "code",
   "execution_count": 1,
   "metadata": {},
   "outputs": [],
   "source": [
    "import sys\n",
    "\n",
    "sys.path.append(\"/home/hacene/Documents/information_extraction_from_id_cards/src\")"
   ]
  },
  {
   "cell_type": "code",
   "execution_count": 2,
   "metadata": {},
   "outputs": [
    {
     "name": "stderr",
     "output_type": "stream",
     "text": [
      "2022-01-05 15:12:46.422840: W tensorflow/stream_executor/platform/default/dso_loader.cc:64] Could not load dynamic library 'libcudart.so.11.0'; dlerror: libcudart.so.11.0: cannot open shared object file: No such file or directory; LD_LIBRARY_PATH: /home/hacene/.cache/pypoetry/virtualenvs/ocr-id-cards-tiqq-sx6-py3.8/lib/python3.8/site-packages/cv2/../../lib64:\n",
      "2022-01-05 15:12:46.422860: I tensorflow/stream_executor/cuda/cudart_stub.cc:29] Ignore above cudart dlerror if you do not have a GPU set up on your machine.\n"
     ]
    }
   ],
   "source": [
    "from os import listdir\n",
    "from typing import List\n",
    "\n",
    "import cv2\n",
    "import imutils\n",
    "import numpy as np\n",
    "import tensorflow as tf\n",
    "from matplotlib import pyplot as plt\n",
    "from tensorflow.keras.models import load_model\n",
    "from tensorflow.keras.preprocessing import image\n",
    "\n",
    "from data.utils_old import get_characters_from_image"
   ]
  },
  {
   "cell_type": "code",
   "execution_count": 5,
   "metadata": {},
   "outputs": [],
   "source": [
    "CLASSES = [\n",
    "    \"0\",\n",
    "    \"1\",\n",
    "    \"2\",\n",
    "    \"3\",\n",
    "    \"4\",\n",
    "    \"5\",\n",
    "    \"6\",\n",
    "    \"7\",\n",
    "    \"8\",\n",
    "    \"9\",\n",
    "    \"A\",\n",
    "    \"B\",\n",
    "    \"C\",\n",
    "    \"D\",\n",
    "    \"E\",\n",
    "    \"F\",\n",
    "    \"G\",\n",
    "    \"H\",\n",
    "    \"I\",\n",
    "    \"J\",\n",
    "    \"K\",\n",
    "    \"L\",\n",
    "    \"M\",\n",
    "    \"N\",\n",
    "    \"O\",\n",
    "    \"P\",\n",
    "    \"Q\",\n",
    "    \"R\",\n",
    "    \"S\",\n",
    "    \"T\",\n",
    "    \"U\",\n",
    "    \"V\",\n",
    "    \"W\",\n",
    "    \"X\",\n",
    "    \"Y\",\n",
    "    \"Z\",\n",
    "    \"<\",\n",
    "]"
   ]
  },
  {
   "cell_type": "code",
   "execution_count": 6,
   "metadata": {},
   "outputs": [],
   "source": [
    "def return_class(predictions, CLASSES):\n",
    "    mask = np.ones_like(predictions)\n",
    "    classes = np.array(CLASSES)\n",
    "    indices_m_and_n = np.where(((classes != \"M\") & (classes != \"F\")))[0]\n",
    "    mask[0:15, 10:] = -1\n",
    "    mask[16, indices_m_and_n] = -1\n",
    "    mask[17:24, 10:] = -1\n",
    "    mask[24:, 0:10] = -1\n",
    "    classes = np.array(CLASSES)\n",
    "    constrainted_prediction = np.multiply(predictions, mask)\n",
    "    ind = np.argmax(constrainted_prediction, axis=1)\n",
    "    return classes[ind]"
   ]
  },
  {
   "cell_type": "code",
   "execution_count": 7,
   "metadata": {},
   "outputs": [],
   "source": [
    "def get_used_characters(characters):\n",
    "    line_01 = [characters[0][i] for i in range(5, 14)]\n",
    "    line_02 = [characters[1][i] for i in range(0, 15)]\n",
    "    line_03 = characters[2]\n",
    "    images = line_01 + line_02 + line_03\n",
    "    return images"
   ]
  },
  {
   "cell_type": "code",
   "execution_count": 8,
   "metadata": {},
   "outputs": [
    {
     "name": "stdout",
     "output_type": "stream",
     "text": [
      "WARNING:tensorflow:Error in loading the saved optimizer state. As a result, your model is starting with a freshly initialized optimizer.\n"
     ]
    },
    {
     "name": "stderr",
     "output_type": "stream",
     "text": [
      "2022-01-05 00:28:31.099822: W tensorflow/stream_executor/platform/default/dso_loader.cc:64] Could not load dynamic library 'libcuda.so.1'; dlerror: libcuda.so.1: cannot open shared object file: No such file or directory; LD_LIBRARY_PATH: /home/hacene/.cache/pypoetry/virtualenvs/ocr-id-cards-tiqq-sx6-py3.8/lib/python3.8/site-packages/cv2/../../lib64:\n",
      "2022-01-05 00:28:31.099846: W tensorflow/stream_executor/cuda/cuda_driver.cc:269] failed call to cuInit: UNKNOWN ERROR (303)\n",
      "2022-01-05 00:28:31.099864: I tensorflow/stream_executor/cuda/cuda_diagnostics.cc:156] kernel driver does not appear to be running on this host (hacene-XPS-15-9500): /proc/driver/nvidia/version does not exist\n",
      "2022-01-05 00:28:31.100077: I tensorflow/core/platform/cpu_feature_guard.cc:151] This TensorFlow binary is optimized with oneAPI Deep Neural Network Library (oneDNN) to use the following CPU instructions in performance-critical operations:  AVX2 FMA\n",
      "To enable them in other operations, rebuild TensorFlow with the appropriate compiler flags.\n"
     ]
    }
   ],
   "source": [
    "model = tf.keras.models.load_model(\"../models/model.h5\")"
   ]
  },
  {
   "cell_type": "code",
   "execution_count": 9,
   "metadata": {},
   "outputs": [
    {
     "name": "stdout",
     "output_type": "stream",
     "text": [
      "['serving_default']\n",
      "{'sequential_4': TensorSpec(shape=(None, 37), dtype=tf.float32, name='sequential_4')}\n"
     ]
    }
   ],
   "source": [
    "loaded = tf.saved_model.load(\"../models/model\")\n",
    "print(list(loaded.signatures.keys()))  # [\"serving_default\"]\n",
    "infer = loaded.signatures[\"serving_default\"]\n",
    "print(infer.structured_outputs)"
   ]
  },
  {
   "cell_type": "code",
   "execution_count": 10,
   "metadata": {},
   "outputs": [],
   "source": [
    "def predict_fn(image_path):\n",
    "    img = tf.io.read_file(image_path)\n",
    "    img = tf.image.decode_image(img, channels=1, expand_animations=False)\n",
    "    x = tf.expand_dims(img, axis=0)\n",
    "    pre = model(tf.cast(x, dtype=tf.float32))\n",
    "    c = return_class(pre, CLASSES)\n",
    "    return c"
   ]
  },
  {
   "cell_type": "code",
   "execution_count": 11,
   "metadata": {},
   "outputs": [],
   "source": [
    "def predict_fn(image):\n",
    "    img = tf.cast(image, dtype=tf.float32)\n",
    "    x = tf.expand_dims(img, axis=0)\n",
    "    x = tf.expand_dims(x, axis=-1)\n",
    "    pre = model(x)\n",
    "    c = return_class(pre, CLASSES)\n",
    "    return c"
   ]
  },
  {
   "cell_type": "code",
   "execution_count": 12,
   "metadata": {},
   "outputs": [],
   "source": [
    "def return_data(characters):\n",
    "    model_input = [tf.cast(image, dtype=tf.float32) for image in characters]\n",
    "    model_input = [tf.expand_dims(image, axis=-1) for image in model_input]\n",
    "    model_input = tf.stack(model_input, axis=0)\n",
    "    # predictions = model.predict(model_input)\n",
    "    predictions = infer(model_input)[\"sequential_4\"].numpy()\n",
    "    outputs = return_class(predictions, CLASSES)\n",
    "    line0 = outputs[0:9]\n",
    "    line1 = outputs[9:24]\n",
    "    line2 = outputs[24:]\n",
    "    print(line1)\n",
    "\n",
    "    id_number = \"\".join(line0)\n",
    "    birthdate = \"\".join(line1[0:6])\n",
    "    birthdate = birthdate[0:2] + \"-\" + birthdate[2:4] + \"-\" + birthdate[4:]\n",
    "    sex = line1[7]\n",
    "\n",
    "    exp_date = \"\".join(line1[8:14])\n",
    "    exp_date = exp_date[0:2] + \"-\" + exp_date[2:4] + \"-\" + exp_date[4:]\n",
    "\n",
    "    last_name = \"\"\n",
    "    first_name = \"\"\n",
    "    i = 0\n",
    "    prec = False\n",
    "    actual = False\n",
    "    sep = False\n",
    "    while (i < len(line2)) and not (sep):\n",
    "        c = line2[i]\n",
    "        prec = actual\n",
    "        if c != \"<\":\n",
    "            last_name += c\n",
    "            actual = False\n",
    "        else:\n",
    "            last_name += \" \"\n",
    "            actual = True\n",
    "        sep = actual and prec\n",
    "        i += 1\n",
    "\n",
    "    prec = False\n",
    "    actual = False\n",
    "    sep = False\n",
    "    while (i < len(line2)) and not (sep):\n",
    "        c = line2[i]\n",
    "        prec = actual\n",
    "        if c != \"<\":\n",
    "            first_name += c\n",
    "            actual = False\n",
    "        else:\n",
    "            first_name += \" \"\n",
    "            actual = True\n",
    "        sep = actual and prec\n",
    "        i += 1\n",
    "    informations = {\n",
    "        \"first_name\": first_name,\n",
    "        \"last_name\": last_name,\n",
    "        \"birthdate\": birthdate,\n",
    "        \"sex\": sex,\n",
    "        \"id\": id_number,\n",
    "        \"exp_date\": exp_date,\n",
    "    }\n",
    "    return informations, predictions"
   ]
  },
  {
   "cell_type": "code",
   "execution_count": 13,
   "metadata": {},
   "outputs": [
    {
     "name": "stdout",
     "output_type": "stream",
     "text": [
      "['9' '0' '0' '7' '1' '3' '8' 'F' '3' '0' '0' '2' '1' '1' '9']\n",
      "Family Name : MARTIN   \n",
      "Name : MAELYS GAELLE MARIE   \n",
      "ID : 348182704 \n",
      "Birthdate : 90-07-13 \n",
      "Sex: F \n",
      "Day of expiration : 30-02-11 \n"
     ]
    }
   ],
   "source": [
    "im = cv2.imread(\"../data_sample/raw/33.png\")\n",
    "path = \"./images/\"\n",
    "\n",
    "total = get_characters_from_image(im)\n",
    "characters = get_used_characters(total)\n",
    "informations, predictions = return_data(characters)\n",
    "\n",
    "print(\"Family Name : {} \".format(informations[\"last_name\"]))\n",
    "print(\"Name : {} \".format(informations[\"first_name\"]))\n",
    "print(\"ID : {} \".format(informations[\"id\"]))\n",
    "print(\"Birthdate : {} \".format(informations[\"birthdate\"]))\n",
    "print(\"Sex: {} \".format(informations[\"sex\"]))\n",
    "print(\"Day of expiration : {} \".format(informations[\"exp_date\"]))"
   ]
  },
  {
   "cell_type": "code",
   "execution_count": null,
   "metadata": {},
   "outputs": [],
   "source": []
  }
 ],
 "metadata": {
  "interpreter": {
   "hash": "d125e7890cf1d7725f7b675f632041982b3a7a9f4c7f84aca7b1008fb2e05266"
  },
  "kernelspec": {
   "display_name": "Python 3 (ipykernel)",
   "language": "python",
   "name": "python3"
  },
  "language_info": {
   "codemirror_mode": {
    "name": "ipython",
    "version": 3
   },
   "file_extension": ".py",
   "mimetype": "text/x-python",
   "name": "python",
   "nbconvert_exporter": "python",
   "pygments_lexer": "ipython3",
   "version": "3.8.5"
  }
 },
 "nbformat": 4,
 "nbformat_minor": 4
}
